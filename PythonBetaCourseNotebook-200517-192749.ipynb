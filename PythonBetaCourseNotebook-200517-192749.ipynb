{
 "cells": [
  {
   "cell_type": "markdown",
   "metadata": {},
   "source": [
    "# Python Beta Course Notebook"
   ]
  },
  {
   "cell_type": "markdown",
   "metadata": {},
   "source": [
    "## Part 1:\n",
    "* Preliminaries - Variables, Data Types & Basic Build-in Functions\n",
    "* Python Data Structures\n",
    "* Control Flow Statements \n",
    "* Loops\n",
    "* Error Handling \n",
    "* Reading and Writing to Files \n",
    "* Functions \n",
    "* OOP – Classes "
   ]
  },
  {
   "cell_type": "code",
   "execution_count": 1,
   "metadata": {},
   "outputs": [],
   "source": [
    "x= \"Bismillah\"\n",
    "y = 1\n",
    "z = True"
   ]
  },
  {
   "cell_type": "code",
   "execution_count": 2,
   "metadata": {},
   "outputs": [
    {
     "name": "stdout",
     "output_type": "stream",
     "text": [
      "Bismillah 1 True\n"
     ]
    }
   ],
   "source": [
    "print(x,y,z)"
   ]
  },
  {
   "cell_type": "code",
   "execution_count": 3,
   "metadata": {},
   "outputs": [],
   "source": [
    "x = y = z = \"Bismillah\", 56, True"
   ]
  },
  {
   "cell_type": "code",
   "execution_count": 4,
   "metadata": {},
   "outputs": [
    {
     "name": "stdout",
     "output_type": "stream",
     "text": [
      "('Bismillah', 56, True) ('Bismillah', 56, True) ('Bismillah', 56, True)\n"
     ]
    }
   ],
   "source": [
    "print(x, y, z)"
   ]
  },
  {
   "cell_type": "code",
   "execution_count": 5,
   "metadata": {},
   "outputs": [
    {
     "data": {
      "text/plain": [
       "112"
      ]
     },
     "execution_count": 5,
     "metadata": {},
     "output_type": "execute_result"
    }
   ],
   "source": [
    "a = 23\n",
    "b = 89\n",
    "c = a + b \n",
    "c"
   ]
  },
  {
   "cell_type": "code",
   "execution_count": 6,
   "metadata": {},
   "outputs": [
    {
     "ename": "TypeError",
     "evalue": "unsupported operand type(s) for +: 'int' and 'str'",
     "output_type": "error",
     "traceback": [
      "\u001b[1;31m---------------------------------------------------------------------------\u001b[0m",
      "\u001b[1;31mTypeError\u001b[0m                                 Traceback (most recent call last)",
      "\u001b[1;32m<ipython-input-6-67f1308f1614>\u001b[0m in \u001b[0;36m<module>\u001b[1;34m\u001b[0m\n\u001b[1;32m----> 1\u001b[1;33m \u001b[0msummation\u001b[0m \u001b[1;33m=\u001b[0m \u001b[0mc\u001b[0m \u001b[1;33m+\u001b[0m \u001b[1;34m\"Hello\"\u001b[0m\u001b[1;33m\u001b[0m\u001b[1;33m\u001b[0m\u001b[0m\n\u001b[0m",
      "\u001b[1;31mTypeError\u001b[0m: unsupported operand type(s) for +: 'int' and 'str'"
     ]
    }
   ],
   "source": [
    "summation = c + \"Hello\""
   ]
  },
  {
   "cell_type": "code",
   "execution_count": 7,
   "metadata": {},
   "outputs": [
    {
     "ename": "NameError",
     "evalue": "name 'summation' is not defined",
     "output_type": "error",
     "traceback": [
      "\u001b[1;31m---------------------------------------------------------------------------\u001b[0m",
      "\u001b[1;31mNameError\u001b[0m                                 Traceback (most recent call last)",
      "\u001b[1;32m<ipython-input-7-421f0076e543>\u001b[0m in \u001b[0;36m<module>\u001b[1;34m\u001b[0m\n\u001b[1;32m----> 1\u001b[1;33m \u001b[0msummation\u001b[0m\u001b[1;33m\u001b[0m\u001b[1;33m\u001b[0m\u001b[0m\n\u001b[0m",
      "\u001b[1;31mNameError\u001b[0m: name 'summation' is not defined"
     ]
    }
   ],
   "source": [
    "summation"
   ]
  },
  {
   "cell_type": "code",
   "execution_count": null,
   "metadata": {},
   "outputs": [],
   "source": []
  },
  {
   "cell_type": "code",
   "execution_count": 8,
   "metadata": {},
   "outputs": [
    {
     "data": {
      "text/plain": [
       "1"
      ]
     },
     "execution_count": 8,
     "metadata": {},
     "output_type": "execute_result"
    }
   ],
   "source": [
    "22%3"
   ]
  },
  {
   "cell_type": "code",
   "execution_count": 9,
   "metadata": {},
   "outputs": [
    {
     "data": {
      "text/plain": [
       "[0, 1, 2, 3, 4, 5, 6, 7, 8, 9]"
      ]
     },
     "execution_count": 9,
     "metadata": {},
     "output_type": "execute_result"
    }
   ],
   "source": [
    "my_new_list = [value for value in range(10)]\n",
    "my_new_list"
   ]
  },
  {
   "cell_type": "code",
   "execution_count": 10,
   "metadata": {},
   "outputs": [
    {
     "data": {
      "text/plain": [
       "10"
      ]
     },
     "execution_count": 10,
     "metadata": {},
     "output_type": "execute_result"
    }
   ],
   "source": [
    "len(my_new_list)"
   ]
  },
  {
   "cell_type": "code",
   "execution_count": 11,
   "metadata": {},
   "outputs": [],
   "source": [
    "my_new_list.append(565)"
   ]
  },
  {
   "cell_type": "code",
   "execution_count": 12,
   "metadata": {},
   "outputs": [
    {
     "data": {
      "text/plain": [
       "11"
      ]
     },
     "execution_count": 12,
     "metadata": {},
     "output_type": "execute_result"
    }
   ],
   "source": [
    "len(my_new_list)"
   ]
  },
  {
   "cell_type": "code",
   "execution_count": 13,
   "metadata": {},
   "outputs": [
    {
     "data": {
      "text/plain": [
       "[234, 0, 1, 2, 3, 4, 5, 6, 7, 8, 9, 565]"
      ]
     },
     "execution_count": 13,
     "metadata": {},
     "output_type": "execute_result"
    }
   ],
   "source": [
    "my_new_list.insert(0,234)\n",
    "my_new_list"
   ]
  },
  {
   "cell_type": "code",
   "execution_count": 14,
   "metadata": {},
   "outputs": [
    {
     "data": {
      "text/plain": [
       "1"
      ]
     },
     "execution_count": 14,
     "metadata": {},
     "output_type": "execute_result"
    }
   ],
   "source": [
    "my_new_list.pop(2)"
   ]
  },
  {
   "cell_type": "code",
   "execution_count": 15,
   "metadata": {},
   "outputs": [
    {
     "data": {
      "text/plain": [
       "[234, 0, 2, 3, 4, 5, 6, 7, 8, 9, 565]"
      ]
     },
     "execution_count": 15,
     "metadata": {},
     "output_type": "execute_result"
    }
   ],
   "source": [
    "my_new_list"
   ]
  },
  {
   "cell_type": "code",
   "execution_count": 16,
   "metadata": {},
   "outputs": [],
   "source": [
    "dict_ = {key: value for key, value in [['Apple', 12],['Banana', 12],['Orange', 24]]} "
   ]
  },
  {
   "cell_type": "code",
   "execution_count": 17,
   "metadata": {},
   "outputs": [
    {
     "data": {
      "text/plain": [
       "{'Apple': 12, 'Banana': 12, 'Orange': 24}"
      ]
     },
     "execution_count": 17,
     "metadata": {},
     "output_type": "execute_result"
    }
   ],
   "source": [
    "dict_"
   ]
  },
  {
   "cell_type": "code",
   "execution_count": 18,
   "metadata": {},
   "outputs": [
    {
     "data": {
      "text/plain": [
       "12"
      ]
     },
     "execution_count": 18,
     "metadata": {},
     "output_type": "execute_result"
    }
   ],
   "source": [
    "dict_['Banana']"
   ]
  },
  {
   "cell_type": "code",
   "execution_count": 19,
   "metadata": {},
   "outputs": [],
   "source": [
    "dict_['Peach'] = 32"
   ]
  },
  {
   "cell_type": "code",
   "execution_count": 20,
   "metadata": {},
   "outputs": [
    {
     "data": {
      "text/plain": [
       "{'Apple': 12, 'Banana': 12, 'Orange': 24, 'Peach': 32}"
      ]
     },
     "execution_count": 20,
     "metadata": {},
     "output_type": "execute_result"
    }
   ],
   "source": [
    "dict_"
   ]
  },
  {
   "cell_type": "code",
   "execution_count": 21,
   "metadata": {},
   "outputs": [],
   "source": [
    "v = {'Potato': 23, 'Tomato': 24, 'Peach': 12}"
   ]
  },
  {
   "cell_type": "code",
   "execution_count": 22,
   "metadata": {},
   "outputs": [
    {
     "data": {
      "text/plain": [
       "{'Potato': 23, 'Tomato': 24, 'Peach': 12}"
      ]
     },
     "execution_count": 22,
     "metadata": {},
     "output_type": "execute_result"
    }
   ],
   "source": [
    "v"
   ]
  },
  {
   "cell_type": "code",
   "execution_count": 23,
   "metadata": {},
   "outputs": [],
   "source": [
    "dict_.update(v)"
   ]
  },
  {
   "cell_type": "code",
   "execution_count": 24,
   "metadata": {},
   "outputs": [
    {
     "data": {
      "text/plain": [
       "12"
      ]
     },
     "execution_count": 24,
     "metadata": {},
     "output_type": "execute_result"
    }
   ],
   "source": [
    "dict_.pop('Peach')"
   ]
  },
  {
   "cell_type": "code",
   "execution_count": 25,
   "metadata": {},
   "outputs": [
    {
     "data": {
      "text/plain": [
       "{'Apple': 12, 'Banana': 12, 'Orange': 24, 'Potato': 23, 'Tomato': 24}"
      ]
     },
     "execution_count": 25,
     "metadata": {},
     "output_type": "execute_result"
    }
   ],
   "source": [
    "dict_"
   ]
  },
  {
   "cell_type": "code",
   "execution_count": 26,
   "metadata": {},
   "outputs": [],
   "source": [
    "my_typ = ('Joe', 'True', 23, 43.2, True)"
   ]
  },
  {
   "cell_type": "code",
   "execution_count": 27,
   "metadata": {},
   "outputs": [],
   "source": [
    "number = 0"
   ]
  },
  {
   "cell_type": "code",
   "execution_count": 28,
   "metadata": {},
   "outputs": [],
   "source": [
    "def is_even(number):\n",
    "    if number%2 == 0 and number != 0:\n",
    "        print(\"This is an Even Number\")\n",
    "    elif number%2 != 0:\n",
    "        print(\"This is an Odd Number\")\n",
    "    else:\n",
    "        print(\"This is Zero\")     "
   ]
  },
  {
   "cell_type": "code",
   "execution_count": 29,
   "metadata": {},
   "outputs": [
    {
     "name": "stdout",
     "output_type": "stream",
     "text": [
      "This is an Even Number\n"
     ]
    }
   ],
   "source": [
    " is_even(78) "
   ]
  },
  {
   "cell_type": "code",
   "execution_count": 30,
   "metadata": {},
   "outputs": [],
   "source": [
    "names = ['Ahmed', 'Ali', 'Hadi']"
   ]
  },
  {
   "cell_type": "code",
   "execution_count": 31,
   "metadata": {},
   "outputs": [
    {
     "data": {
      "text/plain": [
       "range(0, 3)"
      ]
     },
     "execution_count": 31,
     "metadata": {},
     "output_type": "execute_result"
    }
   ],
   "source": [
    "range(3)"
   ]
  },
  {
   "cell_type": "code",
   "execution_count": 32,
   "metadata": {},
   "outputs": [],
   "source": [
    "for i in range(len(names)):\n",
    "    names[i] = 'Mr. ' + names[i]"
   ]
  },
  {
   "cell_type": "code",
   "execution_count": 33,
   "metadata": {},
   "outputs": [
    {
     "data": {
      "text/plain": [
       "['Mr. Ahmed', 'Mr. Ali', 'Mr. Hadi']"
      ]
     },
     "execution_count": 33,
     "metadata": {},
     "output_type": "execute_result"
    }
   ],
   "source": [
    "names"
   ]
  },
  {
   "cell_type": "code",
   "execution_count": 34,
   "metadata": {},
   "outputs": [
    {
     "name": "stdout",
     "output_type": "stream",
     "text": [
      "The number 11 is present at index  0\n",
      "The number 12 is present at index  1\n",
      "The number 13 is present at index  2\n",
      "The number 14 is present at index  3\n"
     ]
    }
   ],
   "source": [
    "num = [11,12,13,14]\n",
    "for i, n in enumerate(num):\n",
    "    print('The number', n, 'is present at index ', i)"
   ]
  },
  {
   "cell_type": "code",
   "execution_count": 40,
   "metadata": {},
   "outputs": [],
   "source": [
    "def check_type (year):\n",
    "    assert type(year) != int, 'The type of year is integer'\n",
    "    print('The type of year is invalid.')\n",
    "\n",
    "    print('not successful')\n",
    "    return False"
   ]
  },
  {
   "cell_type": "code",
   "execution_count": 41,
   "metadata": {},
   "outputs": [
    {
     "name": "stdout",
     "output_type": "stream",
     "text": [
      "The type of year is invalid.\n",
      "not successful\n"
     ]
    },
    {
     "data": {
      "text/plain": [
       "False"
      ]
     },
     "execution_count": 41,
     "metadata": {},
     "output_type": "execute_result"
    }
   ],
   "source": [
    "a=check_type(2010.54)\n",
    "a"
   ]
  },
  {
   "cell_type": "code",
   "execution_count": 42,
   "metadata": {},
   "outputs": [],
   "source": [
    "def checktype(year):\n",
    "    try:\n",
    "        assert type(year) == int\n",
    "    except AssertionError: \n",
    "        print('The type of year is invalid.')\n",
    "        return False\n",
    "    return True"
   ]
  },
  {
   "cell_type": "code",
   "execution_count": 43,
   "metadata": {},
   "outputs": [
    {
     "name": "stdout",
     "output_type": "stream",
     "text": [
      "The type of year is invalid.\n"
     ]
    },
    {
     "data": {
      "text/plain": [
       "False"
      ]
     },
     "execution_count": 43,
     "metadata": {},
     "output_type": "execute_result"
    }
   ],
   "source": [
    "checktype(9898.78)"
   ]
  },
  {
   "cell_type": "code",
   "execution_count": 44,
   "metadata": {},
   "outputs": [],
   "source": [
    "data = []\n",
    "f = open('TestFile.txt', 'r')\n",
    "for row in f:\n",
    "    r = row.strip('\\n')\n",
    "    data.append(r)\n",
    "\n",
    "f.close()"
   ]
  },
  {
   "cell_type": "code",
   "execution_count": 45,
   "metadata": {},
   "outputs": [
    {
     "data": {
      "text/plain": [
       "['1', '2', '3', '4', '5', 'character']"
      ]
     },
     "execution_count": 45,
     "metadata": {},
     "output_type": "execute_result"
    }
   ],
   "source": [
    "data"
   ]
  },
  {
   "cell_type": "code",
   "execution_count": 46,
   "metadata": {},
   "outputs": [],
   "source": [
    "write_data = ['Alpha', 'Beta', 'Gamma']"
   ]
  },
  {
   "cell_type": "code",
   "execution_count": 47,
   "metadata": {},
   "outputs": [],
   "source": [
    "with open('GreekLetters.txt', 'w') as g:\n",
    "    for ind, value in enumerate(write_data):\n",
    "        g.write(value)\n",
    "        g.write(\"\\n\")\n",
    "g.close()"
   ]
  },
  {
   "cell_type": "code",
   "execution_count": 54,
   "metadata": {},
   "outputs": [],
   "source": [
    "class Fruit:\n",
    "    \"\"\"\n",
    "    A class is defined for friuts,\n",
    "    to create objects of this class..\n",
    "    \"\"\"\n",
    "    def __init__(self, name, nutrients):\n",
    "        try:\n",
    "            assert type(nutrients) == list \n",
    "        except AssertionError:\n",
    "            print('Invalid Construction')\n",
    "            raise Exception\n",
    "        self.name = name\n",
    "        self.nutrients = nutrients\n",
    "        self.is_ripe = False\n",
    "            \n",
    "    def get_name(self):\n",
    "        return self.name\n",
    "    \n",
    "    def get_nutrients(self):\n",
    "        print(self.name + ' has following nutrients:')\n",
    "        for value in self.nutrients:\n",
    "            print(value)\n",
    "            \n",
    "    def check_ripeness(self):\n",
    "        return self.is_ripe\n",
    "\n",
    "    def ripen_fruit(self):\n",
    "        self.is_ripe = True\n"
   ]
  },
  {
   "cell_type": "code",
   "execution_count": 56,
   "metadata": {},
   "outputs": [],
   "source": [
    "apple = Fruit(name='Apple', nutrients=['Vitamin D', 'Vitamin A', 'Vitamin K'])     \n",
    "banana = Fruit(name='Banana', nutrients =['Potassium','Vitamin B6'])"
   ]
  },
  {
   "cell_type": "code",
   "execution_count": 57,
   "metadata": {},
   "outputs": [
    {
     "name": "stdout",
     "output_type": "stream",
     "text": [
      "Apple has following nutrients:\n",
      "Vitamin D\n",
      "Vitamin A\n",
      "Vitamin K\n"
     ]
    }
   ],
   "source": [
    "apple.get_nutrients()"
   ]
  },
  {
   "cell_type": "code",
   "execution_count": 58,
   "metadata": {},
   "outputs": [
    {
     "data": {
      "text/plain": [
       "False"
      ]
     },
     "execution_count": 58,
     "metadata": {},
     "output_type": "execute_result"
    }
   ],
   "source": [
    "apple.check_ripeness()"
   ]
  },
  {
   "cell_type": "code",
   "execution_count": 59,
   "metadata": {},
   "outputs": [],
   "source": [
    "apple.ripen_fruit()"
   ]
  },
  {
   "cell_type": "code",
   "execution_count": 60,
   "metadata": {},
   "outputs": [
    {
     "data": {
      "text/plain": [
       "True"
      ]
     },
     "execution_count": 60,
     "metadata": {},
     "output_type": "execute_result"
    }
   ],
   "source": [
    "apple.check_ripeness()"
   ]
  },
  {
   "cell_type": "code",
   "execution_count": 61,
   "metadata": {},
   "outputs": [
    {
     "data": {
      "text/plain": [
       "False"
      ]
     },
     "execution_count": 61,
     "metadata": {},
     "output_type": "execute_result"
    }
   ],
   "source": [
    "banana.check_ripeness()"
   ]
  },
  {
   "cell_type": "markdown",
   "metadata": {},
   "source": [
    "Extend Fruit Class to Citrus"
   ]
  },
  {
   "cell_type": "code",
   "execution_count": 63,
   "metadata": {},
   "outputs": [],
   "source": [
    "class Citrus(Fruit):\n",
    "    def __init__(self, name, nutrients):\n",
    "        super().__init__(name, nutrients)\n",
    "        self.type = 'Citurs'\n",
    "        self.characteristic = \"puply and Juicy\"\n",
    "    \n",
    "    def get_type(self):\n",
    "        return self.type"
   ]
  },
  {
   "cell_type": "code",
   "execution_count": 64,
   "metadata": {},
   "outputs": [],
   "source": [
    "orange = Citrus(name='orange', nutrients=['Vitamin D', 'Vitamin C'])"
   ]
  },
  {
   "cell_type": "code",
   "execution_count": 65,
   "metadata": {},
   "outputs": [
    {
     "data": {
      "text/plain": [
       "True"
      ]
     },
     "execution_count": 65,
     "metadata": {},
     "output_type": "execute_result"
    }
   ],
   "source": [
    "orange.ripen_fruit()\n",
    "orange.check_ripeness()"
   ]
  },
  {
   "cell_type": "code",
   "execution_count": 66,
   "metadata": {},
   "outputs": [
    {
     "name": "stdout",
     "output_type": "stream",
     "text": [
      "orange has following nutrients:\n",
      "Vitamin D\n",
      "Vitamin C\n"
     ]
    }
   ],
   "source": [
    "orange.get_nutrients()"
   ]
  },
  {
   "cell_type": "markdown",
   "metadata": {},
   "source": [
    "Exercise 1: Berry()\n",
    "    type = 'Berry'\n",
    "    characteristics = \" Seed Embedded Flesh\"\n",
    "    def Function: get_type\n",
    "\n",
    "Exercise 2: eliminate type from init() and parse as an argument\n",
    "    def __init__(self, name, nut, type)"
   ]
  },
  {
   "cell_type": "markdown",
   "metadata": {},
   "source": [
    "## Part 2:\n",
    "* Dates\n",
    "* OS module\n",
    "* Introspection \n",
    "* Sqlite module\n",
    "* Csv module \n",
    "* Sub process module\n",
    "* Requests module "
   ]
  },
  {
   "cell_type": "code",
   "execution_count": 68,
   "metadata": {},
   "outputs": [],
   "source": [
    "from datetime import datetime\n",
    "my_dt = datetime.now()"
   ]
  },
  {
   "cell_type": "code",
   "execution_count": 69,
   "metadata": {},
   "outputs": [
    {
     "data": {
      "text/plain": [
       "14"
      ]
     },
     "execution_count": 69,
     "metadata": {},
     "output_type": "execute_result"
    }
   ],
   "source": [
    "my_dt.day"
   ]
  },
  {
   "cell_type": "code",
   "execution_count": 70,
   "metadata": {},
   "outputs": [],
   "source": [
    "year = my_dt.strftime(\"%A\")"
   ]
  },
  {
   "cell_type": "code",
   "execution_count": 71,
   "metadata": {},
   "outputs": [
    {
     "data": {
      "text/plain": [
       "'Thursday'"
      ]
     },
     "execution_count": 71,
     "metadata": {},
     "output_type": "execute_result"
    }
   ],
   "source": [
    "year\n"
   ]
  },
  {
   "cell_type": "code",
   "execution_count": 72,
   "metadata": {},
   "outputs": [
    {
     "data": {
      "text/plain": [
       "'09:50'"
      ]
     },
     "execution_count": 72,
     "metadata": {},
     "output_type": "execute_result"
    }
   ],
   "source": [
    "my_dt.strftime(\"%H:%M\")"
   ]
  },
  {
   "cell_type": "code",
   "execution_count": 73,
   "metadata": {},
   "outputs": [
    {
     "data": {
      "text/plain": [
       "'C:\\\\Users\\\\sana.rasheed'"
      ]
     },
     "execution_count": 73,
     "metadata": {},
     "output_type": "execute_result"
    }
   ],
   "source": [
    "import os\n",
    "os.getcwd()"
   ]
  },
  {
   "cell_type": "code",
   "execution_count": 74,
   "metadata": {},
   "outputs": [
    {
     "data": {
      "text/plain": [
       "['h2o-sana.rasheed', 'ostempdir']"
      ]
     },
     "execution_count": 74,
     "metadata": {},
     "output_type": "execute_result"
    }
   ],
   "source": [
    "os.listdir(\"C:\\\\tmp\")"
   ]
  },
  {
   "cell_type": "code",
   "execution_count": 75,
   "metadata": {},
   "outputs": [
    {
     "ename": "FileExistsError",
     "evalue": "[WinError 183] Cannot create a file when that file already exists: 'c:\\\\tmp\\\\ostempdir'",
     "output_type": "error",
     "traceback": [
      "\u001b[1;31m---------------------------------------------------------------------------\u001b[0m",
      "\u001b[1;31mFileExistsError\u001b[0m                           Traceback (most recent call last)",
      "\u001b[1;32m<ipython-input-75-f2da5dcf00dd>\u001b[0m in \u001b[0;36m<module>\u001b[1;34m\u001b[0m\n\u001b[1;32m----> 1\u001b[1;33m \u001b[0mos\u001b[0m\u001b[1;33m.\u001b[0m\u001b[0mmkdir\u001b[0m\u001b[1;33m(\u001b[0m\u001b[1;34m\"c:\\\\tmp\\ostempdir\"\u001b[0m\u001b[1;33m)\u001b[0m\u001b[1;33m\u001b[0m\u001b[1;33m\u001b[0m\u001b[0m\n\u001b[0m",
      "\u001b[1;31mFileExistsError\u001b[0m: [WinError 183] Cannot create a file when that file already exists: 'c:\\\\tmp\\\\ostempdir'"
     ]
    }
   ],
   "source": [
    "os.mkdir(\"c:\\\\tmp\\ostempdir\")"
   ]
  },
  {
   "cell_type": "code",
   "execution_count": 76,
   "metadata": {},
   "outputs": [],
   "source": [
    "import csv"
   ]
  },
  {
   "cell_type": "code",
   "execution_count": 77,
   "metadata": {},
   "outputs": [],
   "source": [
    "file = \"c:\\\\tmp\\ostempdir\\Score.csv\""
   ]
  },
  {
   "cell_type": "code",
   "execution_count": 78,
   "metadata": {},
   "outputs": [],
   "source": [
    "data = [('Ali', 56),('Ahmed', 87),('Amna', 76)]"
   ]
  },
  {
   "cell_type": "code",
   "execution_count": 79,
   "metadata": {},
   "outputs": [],
   "source": [
    "writer = csv.writer(open(file, 'w', newline=\"\"))\n",
    "for row in data:\n",
    "    writer.writerow(row)"
   ]
  },
  {
   "cell_type": "code",
   "execution_count": 80,
   "metadata": {},
   "outputs": [],
   "source": [
    "reader = csv.reader(open(file, 'r'))\n",
    "for row in reader:\n",
    "    print(row)"
   ]
  },
  {
   "cell_type": "code",
   "execution_count": null,
   "metadata": {},
   "outputs": [],
   "source": []
  },
  {
   "cell_type": "markdown",
   "metadata": {},
   "source": [
    "#### Subprocess Module"
   ]
  },
  {
   "cell_type": "code",
   "execution_count": 81,
   "metadata": {},
   "outputs": [
    {
     "name": "stdout",
     "output_type": "stream",
     "text": [
      "b' Volume in drive C is OSDisk\\r\\n Volume Serial Number is 26BE-B9A2\\r\\n\\r\\n Directory of C:\\\\Users\\\\sana.rasheed\\r\\n\\r\\n05/14/2020  09:48 AM    <DIR>          .\\r\\n05/14/2020  09:48 AM    <DIR>          ..\\r\\n03/18/2019  06:46 PM    <DIR>          .anaconda\\r\\n04/26/2020  09:12 PM               244 .bash_history\\r\\n07/17/2019  04:17 PM    <DIR>          .cisco\\r\\n04/22/2020  03:03 PM    <DIR>          .conda\\r\\n04/22/2020  01:41 PM                43 .condarc\\r\\n05/08/2020  06:30 PM    <DIR>          .cufflinks\\r\\n04/26/2020  08:59 PM                92 .gitconfig\\r\\n05/08/2020  06:20 PM    <DIR>          .ipynb_checkpoints\\r\\n03/11/2019  11:53 AM    <DIR>          .ipython\\r\\n05/20/2019  04:25 PM    <DIR>          .junique\\r\\n03/11/2019  04:34 PM    <DIR>          .jupyter\\r\\n05/08/2020  06:00 PM    <DIR>          .matplotlib\\r\\n05/08/2020  01:28 PM             3,576 .python_history\\r\\n04/05/2020  01:04 AM    <DIR>          .spyder-py3\\r\\n04/26/2020  08:29 PM    <DIR>          .ssh\\r\\n05/12/2019  02:45 PM    <DIR>          .VirtualBox\\r\\n03/18/2019  06:54 PM    <DIR>          .vscode\\r\\n03/17/2020  09:59 AM    <DIR>          3D Objects\\r\\n05/11/2020  04:18 PM         6,062,734 Anomaly_Detection.ipynb\\r\\n11/27/2018  11:39 PM         3,407,872 CleanWipe.db\\r\\n11/27/2018  10:52 PM         2,224,960 CleanWipe.exe\\r\\n03/17/2020  09:59 AM    <DIR>          Contacts\\r\\n03/21/2020  10:06 AM             8,192 database.db\\r\\n03/19/2020  08:14 PM               185 debug.log\\r\\n04/30/2020  01:11 PM    <DIR>          Desktop\\r\\n11/23/2019  12:46 PM           387,928 digital_pdf_parser_v3_June18-merged.ipynb\\r\\n05/07/2020  08:36 AM    <DIR>          Documents\\r\\n05/13/2020  06:44 PM    <DIR>          Downloads\\r\\n03/17/2020  09:59 AM    <DIR>          Favorites\\r\\n05/14/2020  09:46 AM                20 GreekLetters.txt\\r\\n03/19/2019  02:00 PM            20,779 H1 Assoc.ipynb\\r\\n06/21/2019  05:46 PM            31,108 HS2 Cluster & H1 Associ - Copy.ipynb\\r\\n03/22/2019  11:59 AM    <DIR>          Library\\r\\n03/17/2020  09:59 AM    <DIR>          Links\\r\\n03/18/2019  03:05 PM    <DIR>          Microsoft\\r\\n03/17/2020  09:59 AM    <DIR>          Music\\r\\n04/18/2020  11:35 AM    <DIR>          OneDrive\\r\\n05/13/2020  06:09 PM    <DIR>          OneDrive - Accenture\\r\\n05/04/2020  12:04 AM    <DIR>          Pictures\\r\\n05/14/2020  09:48 AM            32,475 Python-Beta.ipynb\\r\\n03/25/2020  09:30 AM    <DIR>          Roaming\\r\\n03/17/2020  09:59 AM    <DIR>          Saved Games\\r\\n03/17/2020  09:59 AM    <DIR>          Searches\\r\\n02/15/2020  05:51 PM                24 TestFile.txt\\r\\n03/17/2020  09:59 AM    <DIR>          Videos\\r\\n05/09/2019  12:08 PM    <DIR>          VirtualBox VMs\\r\\n              15 File(s)     12,180,232 bytes\\r\\n              33 Dir(s)  43,990,171,648 bytes free\\r\\n'\n"
     ]
    }
   ],
   "source": [
    "import subprocess\n",
    "\n",
    "out = subprocess.check_output('dir', shell = True)\n",
    "print(out)"
   ]
  },
  {
   "cell_type": "code",
   "execution_count": 82,
   "metadata": {},
   "outputs": [
    {
     "name": "stdout",
     "output_type": "stream",
     "text": [
      "b''\n"
     ]
    }
   ],
   "source": [
    "output = subprocess.check_output(\"python c:\\\\tmp\\ostempdir\\data_read.py\", shell=True)\n",
    "print(output)"
   ]
  },
  {
   "cell_type": "markdown",
   "metadata": {},
   "source": [
    "#### Request Moduel"
   ]
  },
  {
   "cell_type": "code",
   "execution_count": 83,
   "metadata": {},
   "outputs": [],
   "source": [
    "import requests"
   ]
  },
  {
   "cell_type": "code",
   "execution_count": 84,
   "metadata": {},
   "outputs": [],
   "source": [
    "url = 'http://dummy.restapiexample.com/api/v1/employees'\n",
    "x = requests.get(url,\n",
    "                headers={'User-Agent':'Chrome/42.0.2311.135'}) #('https://api.github.com/users/sana-rasheed')"
   ]
  },
  {
   "cell_type": "code",
   "execution_count": 85,
   "metadata": {},
   "outputs": [
    {
     "data": {
      "text/plain": [
       "<Response [200]>"
      ]
     },
     "execution_count": 85,
     "metadata": {},
     "output_type": "execute_result"
    }
   ],
   "source": [
    "x"
   ]
  },
  {
   "cell_type": "code",
   "execution_count": 86,
   "metadata": {},
   "outputs": [
    {
     "name": "stdout",
     "output_type": "stream",
     "text": [
      "200\n"
     ]
    }
   ],
   "source": [
    "print(x.status_code)"
   ]
  },
  {
   "cell_type": "code",
   "execution_count": 87,
   "metadata": {},
   "outputs": [
    {
     "name": "stdout",
     "output_type": "stream",
     "text": [
      "{'Access-Control-Allow-Origin': '*', 'Access-Control-Expose-Headers': 'Content-Type, X-Requested-With, X-authentication, X-client', 'Cache-Control': 'no-store, no-cache, must-revalidate', 'Content-Encoding': 'gzip', 'Content-Type': 'application/json;charset=utf-8', 'Date': 'Thu, 14 May 2020 06:50:37 GMT', 'Expires': 'Thu, 19 Nov 1981 08:52:00 GMT', 'Host-Header': 'c2hhcmVkLmJsdWVob3N0LmNvbQ==', 'Pragma': 'no-cache', 'Referrer-Policy': '', 'Response': '200', 'Server': 'nginx/1.16.0', 'Set-Cookie': 'PHPSESSID=b4719d1c8f5c23a792b62892010eb3de; path=/, ezoadgid_133674=-1; Path=/; Domain=restapiexample.com; Expires=Thu, 14 May 2020 07:20:36 UTC, ezoref_133674=; Path=/; Domain=restapiexample.com; Expires=Thu, 14 May 2020 08:50:36 UTC, ezoab_133674=mod1; Path=/; Domain=restapiexample.com; Expires=Thu, 14 May 2020 08:50:36 UTC, active_template::133674=pub_site.1589439036; Path=/; Domain=restapiexample.com; Expires=Sat, 16 May 2020 06:50:36 UTC', 'Vary': 'Accept-Encoding, Accept-Encoding,User-Agent,X-APP-JSON', 'X-Ezoic-Cdn': 'Miss', 'X-Middleton-Response': '200', 'X-Sol': 'pub_site', 'Content-Length': '595'}\n"
     ]
    }
   ],
   "source": [
    "print(x.headers)"
   ]
  },
  {
   "cell_type": "code",
   "execution_count": 88,
   "metadata": {},
   "outputs": [],
   "source": [
    "data = x.json()"
   ]
  },
  {
   "cell_type": "code",
   "execution_count": 89,
   "metadata": {},
   "outputs": [
    {
     "data": {
      "text/plain": [
       "{'status': 'success',\n",
       " 'data': [{'id': '1',\n",
       "   'employee_name': 'Tiger Nixon',\n",
       "   'employee_salary': '320800',\n",
       "   'employee_age': '61',\n",
       "   'profile_image': ''},\n",
       "  {'id': '2',\n",
       "   'employee_name': 'Garrett Winters',\n",
       "   'employee_salary': '170750',\n",
       "   'employee_age': '63',\n",
       "   'profile_image': ''},\n",
       "  {'id': '3',\n",
       "   'employee_name': 'Ashton Cox',\n",
       "   'employee_salary': '86000',\n",
       "   'employee_age': '66',\n",
       "   'profile_image': ''},\n",
       "  {'id': '4',\n",
       "   'employee_name': 'Cedric Kelly',\n",
       "   'employee_salary': '433060',\n",
       "   'employee_age': '22',\n",
       "   'profile_image': ''},\n",
       "  {'id': '5',\n",
       "   'employee_name': 'Airi Satou',\n",
       "   'employee_salary': '162700',\n",
       "   'employee_age': '33',\n",
       "   'profile_image': ''},\n",
       "  {'id': '6',\n",
       "   'employee_name': 'Brielle Williamson',\n",
       "   'employee_salary': '372000',\n",
       "   'employee_age': '61',\n",
       "   'profile_image': ''},\n",
       "  {'id': '7',\n",
       "   'employee_name': 'Herrod Chandler',\n",
       "   'employee_salary': '137500',\n",
       "   'employee_age': '59',\n",
       "   'profile_image': ''},\n",
       "  {'id': '8',\n",
       "   'employee_name': 'Rhona Davidson',\n",
       "   'employee_salary': '327900',\n",
       "   'employee_age': '55',\n",
       "   'profile_image': ''},\n",
       "  {'id': '9',\n",
       "   'employee_name': 'Colleen Hurst',\n",
       "   'employee_salary': '205500',\n",
       "   'employee_age': '39',\n",
       "   'profile_image': ''},\n",
       "  {'id': '10',\n",
       "   'employee_name': 'Sonya Frost',\n",
       "   'employee_salary': '103600',\n",
       "   'employee_age': '23',\n",
       "   'profile_image': ''},\n",
       "  {'id': '11',\n",
       "   'employee_name': 'Jena Gaines',\n",
       "   'employee_salary': '90560',\n",
       "   'employee_age': '30',\n",
       "   'profile_image': ''},\n",
       "  {'id': '12',\n",
       "   'employee_name': 'Quinn Flynn',\n",
       "   'employee_salary': '342000',\n",
       "   'employee_age': '22',\n",
       "   'profile_image': ''},\n",
       "  {'id': '13',\n",
       "   'employee_name': 'Charde Marshall',\n",
       "   'employee_salary': '470600',\n",
       "   'employee_age': '36',\n",
       "   'profile_image': ''},\n",
       "  {'id': '14',\n",
       "   'employee_name': 'Haley Kennedy',\n",
       "   'employee_salary': '313500',\n",
       "   'employee_age': '43',\n",
       "   'profile_image': ''},\n",
       "  {'id': '15',\n",
       "   'employee_name': 'Tatyana Fitzpatrick',\n",
       "   'employee_salary': '385750',\n",
       "   'employee_age': '19',\n",
       "   'profile_image': ''},\n",
       "  {'id': '16',\n",
       "   'employee_name': 'Michael Silva',\n",
       "   'employee_salary': '198500',\n",
       "   'employee_age': '66',\n",
       "   'profile_image': ''},\n",
       "  {'id': '17',\n",
       "   'employee_name': 'Paul Byrd',\n",
       "   'employee_salary': '725000',\n",
       "   'employee_age': '64',\n",
       "   'profile_image': ''},\n",
       "  {'id': '18',\n",
       "   'employee_name': 'Gloria Little',\n",
       "   'employee_salary': '237500',\n",
       "   'employee_age': '59',\n",
       "   'profile_image': ''},\n",
       "  {'id': '19',\n",
       "   'employee_name': 'Bradley Greer',\n",
       "   'employee_salary': '132000',\n",
       "   'employee_age': '41',\n",
       "   'profile_image': ''},\n",
       "  {'id': '20',\n",
       "   'employee_name': 'Dai Rios',\n",
       "   'employee_salary': '217500',\n",
       "   'employee_age': '35',\n",
       "   'profile_image': ''},\n",
       "  {'id': '21',\n",
       "   'employee_name': 'Jenette Caldwell',\n",
       "   'employee_salary': '345000',\n",
       "   'employee_age': '30',\n",
       "   'profile_image': ''},\n",
       "  {'id': '22',\n",
       "   'employee_name': 'Yuri Berry',\n",
       "   'employee_salary': '675000',\n",
       "   'employee_age': '40',\n",
       "   'profile_image': ''},\n",
       "  {'id': '23',\n",
       "   'employee_name': 'Caesar Vance',\n",
       "   'employee_salary': '106450',\n",
       "   'employee_age': '21',\n",
       "   'profile_image': ''},\n",
       "  {'id': '24',\n",
       "   'employee_name': 'Doris Wilder',\n",
       "   'employee_salary': '85600',\n",
       "   'employee_age': '23',\n",
       "   'profile_image': ''}]}"
      ]
     },
     "execution_count": 89,
     "metadata": {},
     "output_type": "execute_result"
    }
   ],
   "source": [
    "data"
   ]
  },
  {
   "cell_type": "code",
   "execution_count": 90,
   "metadata": {},
   "outputs": [],
   "source": [
    "myobj = [('Ali', 56),('Ahmed', 87),('Amna', 76)]\n",
    "p = requests.post(\"http://httpbin.org/post\", myobj)\n"
   ]
  },
  {
   "cell_type": "code",
   "execution_count": 91,
   "metadata": {},
   "outputs": [],
   "source": [
    "data = p.json()"
   ]
  },
  {
   "cell_type": "code",
   "execution_count": 92,
   "metadata": {},
   "outputs": [
    {
     "data": {
      "text/plain": [
       "{'Ahmed': '87', 'Ali': '56', 'Amna': '76'}"
      ]
     },
     "execution_count": 92,
     "metadata": {},
     "output_type": "execute_result"
    }
   ],
   "source": [
    "data['form']"
   ]
  },
  {
   "cell_type": "markdown",
   "metadata": {},
   "source": [
    "#### SQLite Moduel"
   ]
  },
  {
   "cell_type": "code",
   "execution_count": 93,
   "metadata": {},
   "outputs": [],
   "source": [
    "import sqlite3\n",
    "from sqlite3 import Error "
   ]
  },
  {
   "cell_type": "code",
   "execution_count": 94,
   "metadata": {},
   "outputs": [],
   "source": [
    "def create_connection(db_file):\n",
    "    \"\"\" create a database connection to the SQLite database specified by db_file\n",
    "    :param db_file: database file\n",
    "    :return: Connection object or None\n",
    "    \"\"\"      \n",
    "    conn = None\n",
    "    try:\n",
    "        conn = sqlite3.connect(db_file)\n",
    "        print(\"The Sqlite connection is connected\")\n",
    "        return conn\n",
    "    except Error as e:\n",
    "        print(e)"
   ]
  },
  {
   "cell_type": "code",
   "execution_count": 95,
   "metadata": {},
   "outputs": [],
   "source": [
    "def close_connection(conn):\n",
    "    \"\"\" close database connection to the SQLite database specified by db_file\n",
    "    :param conn: db_connection object\n",
    "    :return:\n",
    "    \"\"\"\n",
    "    if(conn):\n",
    "        conn.close()\n",
    "        print(\"The Sqlite connection is closed\")"
   ]
  },
  {
   "cell_type": "code",
   "execution_count": 96,
   "metadata": {},
   "outputs": [],
   "source": [
    "def create_table_in_db(conn, create_table_sql):\n",
    "    \"\"\" create a table from the create_table_sql statement\n",
    "    :param conn: Connection object\n",
    "    :param create_table_sql: a CREATE TABLE statement\n",
    "    :return:\n",
    "    \"\"\"\n",
    "    try:\n",
    "        c = conn.cursor()\n",
    "        c.execute(create_table_sql)\n",
    "    except Error as e:\n",
    "        print(e)"
   ]
  },
  {
   "cell_type": "code",
   "execution_count": 97,
   "metadata": {},
   "outputs": [],
   "source": [
    "def create_table():\n",
    "    database = r\"C:\\\\tmp\\ostempdir\\database.db\"\n",
    "    sql_create_projects_table = \"\"\" CREATE TABLE IF NOT EXISTS STUDENTS(\n",
    "    id integer PRIMARY KEY,\n",
    "    name text NOT NULL,\n",
    "    gpa integer,\n",
    "    admission_date text\n",
    "    );\n",
    "    \"\"\"\n",
    "    # create a database connection\n",
    "    conn = create_connection(database)\n",
    "    \n",
    "    #check connection\n",
    "    if conn is not None:\n",
    "        # Create table\n",
    "        create_table_in_db(conn, sql_create_projects_table)\n",
    "    else:\n",
    "        print(\"Error! can not create database connection\")\n",
    "    \n",
    "    close_connection(conn)"
   ]
  },
  {
   "cell_type": "code",
   "execution_count": 98,
   "metadata": {},
   "outputs": [
    {
     "name": "stdout",
     "output_type": "stream",
     "text": [
      "The Sqlite connection is connected\n",
      "The Sqlite connection is closed\n"
     ]
    }
   ],
   "source": [
    "create_table()"
   ]
  },
  {
   "cell_type": "code",
   "execution_count": 99,
   "metadata": {},
   "outputs": [],
   "source": [
    "def add_student(conn, student):\n",
    "    \"\"\"\n",
    "    Create a new student entry into the student table\n",
    "    :param conn:\n",
    "    :param student:\n",
    "    :return: student id\n",
    "    \"\"\"\n",
    "    sql = \"\"\"INSERT INTO STUDENTS(name, gpa, admission_date) \n",
    "    VALUES(?,?,?)\n",
    "    \"\"\"\n",
    "    \n",
    "    cur = conn.cursor()\n",
    "    cur.execute(sql, student)\n",
    "    \n",
    "    return cur.lastrowid"
   ]
  },
  {
   "cell_type": "code",
   "execution_count": 100,
   "metadata": {},
   "outputs": [
    {
     "name": "stdout",
     "output_type": "stream",
     "text": [
      "The Sqlite connection is connected\n",
      "The student ID is:  5\n",
      "The Sqlite connection is closed\n"
     ]
    }
   ],
   "source": [
    "database = r\"C:\\\\tmp\\ostempdir\\database.db\"\n",
    "\n",
    "conn = create_connection(database)\n",
    "with conn:\n",
    "    std = ['Ahmed Akbar', 1.7, '2019-10-30'] \n",
    "    std_id = add_student(conn, std)\n",
    "    \n",
    "print(\"The student ID is: \", std_id)\n",
    "\n",
    "close_connection(conn)"
   ]
  },
  {
   "cell_type": "code",
   "execution_count": 101,
   "metadata": {},
   "outputs": [
    {
     "name": "stdout",
     "output_type": "stream",
     "text": [
      "The Sqlite connection is connected\n"
     ]
    }
   ],
   "source": [
    "conn = create_connection(database)\n",
    "\n",
    "sql_string = \"SELECT * FROM STUDENTS\"\n",
    "cur = conn.cursor()\n",
    "cur.execute(sql_string)\n",
    "records = cur.fetchall()"
   ]
  },
  {
   "cell_type": "code",
   "execution_count": 102,
   "metadata": {},
   "outputs": [
    {
     "data": {
      "text/plain": [
       "[(1, 'Sana Rasheed', 3.7, '2018-1-30'),\n",
       " (2, 'Sana Rasheed', 3.7, '2018-1-30'),\n",
       " (3, 'Ali Akbar', 2.7, '2017-10-30'),\n",
       " (4, 'Ahmed Akbar', 1.7, '2019-10-30'),\n",
       " (5, 'Ahmed Akbar', 1.7, '2019-10-30')]"
      ]
     },
     "execution_count": 102,
     "metadata": {},
     "output_type": "execute_result"
    }
   ],
   "source": [
    "records"
   ]
  },
  {
   "cell_type": "code",
   "execution_count": 103,
   "metadata": {},
   "outputs": [
    {
     "name": "stdout",
     "output_type": "stream",
     "text": [
      "The Sqlite connection is closed\n"
     ]
    }
   ],
   "source": [
    "cur.close()\n",
    "close_connection(conn)"
   ]
  },
  {
   "cell_type": "markdown",
   "metadata": {},
   "source": [
    "#### Introspect"
   ]
  },
  {
   "cell_type": "code",
   "execution_count": 104,
   "metadata": {},
   "outputs": [],
   "source": [
    "class Greeter:\n",
    "    def __init__(self, _name):\n",
    "        self.name = _name \n",
    "    \n",
    "    def say_hello(self):\n",
    "        print('Hello {}!'.format(self.name))\n",
    "    \n",
    "    def say_goodbye(self):\n",
    "        print('Goodbye {}!'.format(self.name))\n",
    "\n",
    "my_greeter = Greeter('John')"
   ]
  },
  {
   "cell_type": "code",
   "execution_count": 105,
   "metadata": {},
   "outputs": [
    {
     "name": "stdout",
     "output_type": "stream",
     "text": [
      "\n",
      "Check id, type and methods of an class object\n",
      "class id:  2389937957744\n",
      "class type:  <class '__main__.Greeter'>\n",
      "class directory:  ['__class__', '__delattr__', '__dict__', '__dir__', '__doc__', '__eq__', '__format__', '__ge__', '__getattribute__', '__gt__', '__hash__', '__init__', '__init_subclass__', '__le__', '__lt__', '__module__', '__ne__', '__new__', '__reduce__', '__reduce_ex__', '__repr__', '__setattr__', '__sizeof__', '__str__', '__subclasshook__', '__weakref__', 'name', 'say_goodbye', 'say_hello']\n",
      "\n",
      "Check id, type and methods for a variable containing string value\n",
      "string_var id:  2389937989216\n",
      "string_var type:  <class 'str'>\n",
      "string_var dir:  ['__add__', '__class__', '__contains__', '__delattr__', '__dir__', '__doc__', '__eq__', '__format__', '__ge__', '__getattribute__', '__getitem__', '__getnewargs__', '__gt__', '__hash__', '__init__', '__init_subclass__', '__iter__', '__le__', '__len__', '__lt__', '__mod__', '__mul__', '__ne__', '__new__', '__reduce__', '__reduce_ex__', '__repr__', '__rmod__', '__rmul__', '__setattr__', '__sizeof__', '__str__', '__subclasshook__', 'capitalize', 'casefold', 'center', 'count', 'encode', 'endswith', 'expandtabs', 'find', 'format', 'format_map', 'index', 'isalnum', 'isalpha', 'isascii', 'isdecimal', 'isdigit', 'isidentifier', 'islower', 'isnumeric', 'isprintable', 'isspace', 'istitle', 'isupper', 'join', 'ljust', 'lower', 'lstrip', 'maketrans', 'partition', 'replace', 'rfind', 'rindex', 'rjust', 'rpartition', 'rsplit', 'rstrip', 'split', 'splitlines', 'startswith', 'strip', 'swapcase', 'title', 'translate', 'upper', 'zfill']\n",
      "\n",
      "Check id, type and methods for a variable containing numeric value\n",
      "numeric_var id:  2389932320976\n",
      "numeric_var type:  <class 'float'>\n",
      "numeric_var attr:  ['__abs__', '__add__', '__bool__', '__class__', '__delattr__', '__dir__', '__divmod__', '__doc__', '__eq__', '__float__', '__floordiv__', '__format__', '__ge__', '__getattribute__', '__getformat__', '__getnewargs__', '__gt__', '__hash__', '__init__', '__init_subclass__', '__int__', '__le__', '__lt__', '__mod__', '__mul__', '__ne__', '__neg__', '__new__', '__pos__', '__pow__', '__radd__', '__rdivmod__', '__reduce__', '__reduce_ex__', '__repr__', '__rfloordiv__', '__rmod__', '__rmul__', '__round__', '__rpow__', '__rsub__', '__rtruediv__', '__set_format__', '__setattr__', '__sizeof__', '__str__', '__sub__', '__subclasshook__', '__truediv__', '__trunc__', 'as_integer_ratio', 'conjugate', 'fromhex', 'hex', 'imag', 'is_integer', 'real']\n"
     ]
    }
   ],
   "source": [
    "string_var = 'this is a variable'\n",
    "numeric_var = 453.324\n",
    "\n",
    "# check available methods \n",
    "print('\\nCheck id, type and methods of an class object')\n",
    "print(\"class id: \", id(my_greeter))\n",
    "print(\"class type: \",type(my_greeter))\n",
    "print(\"class directory: \", dir(my_greeter))\n",
    "\n",
    "print('\\nCheck id, type and methods for a variable containing string value')\n",
    "print(\"string_var id: \", id(string_var))\n",
    "print(\"string_var type: \", type(string_var))\n",
    "print(\"string_var dir: \", dir(string_var))\n",
    "\n",
    "print('\\nCheck id, type and methods for a variable containing numeric value')\n",
    "print(\"numeric_var id: \", id(numeric_var))\n",
    "print(\"numeric_var type: \", type(numeric_var))\n",
    "print(\"numeric_var attr: \", dir(numeric_var))\n"
   ]
  },
  {
   "cell_type": "code",
   "execution_count": 106,
   "metadata": {},
   "outputs": [
    {
     "data": {
      "text/plain": [
       "True"
      ]
     },
     "execution_count": 106,
     "metadata": {},
     "output_type": "execute_result"
    }
   ],
   "source": [
    "string_var.islower()"
   ]
  },
  {
   "cell_type": "code",
   "execution_count": 107,
   "metadata": {},
   "outputs": [],
   "source": [
    "import inspect "
   ]
  },
  {
   "cell_type": "code",
   "execution_count": 108,
   "metadata": {},
   "outputs": [
    {
     "data": {
      "text/plain": [
       "[('__add__', <method-wrapper '__add__' of str object at 0x0000022C7367A660>),\n",
       " ('__class__', str),\n",
       " ('__contains__',\n",
       "  <method-wrapper '__contains__' of str object at 0x0000022C7367A660>),\n",
       " ('__delattr__',\n",
       "  <method-wrapper '__delattr__' of str object at 0x0000022C7367A660>),\n",
       " ('__dir__', <function str.__dir__()>),\n",
       " ('__doc__',\n",
       "  \"str(object='') -> str\\nstr(bytes_or_buffer[, encoding[, errors]]) -> str\\n\\nCreate a new string object from the given object. If encoding or\\nerrors is specified, then the object must expose a data buffer\\nthat will be decoded using the given encoding and error handler.\\nOtherwise, returns the result of object.__str__() (if defined)\\nor repr(object).\\nencoding defaults to sys.getdefaultencoding().\\nerrors defaults to 'strict'.\"),\n",
       " ('__eq__', <method-wrapper '__eq__' of str object at 0x0000022C7367A660>),\n",
       " ('__format__', <function str.__format__(format_spec, /)>),\n",
       " ('__ge__', <method-wrapper '__ge__' of str object at 0x0000022C7367A660>),\n",
       " ('__getattribute__',\n",
       "  <method-wrapper '__getattribute__' of str object at 0x0000022C7367A660>),\n",
       " ('__getitem__',\n",
       "  <method-wrapper '__getitem__' of str object at 0x0000022C7367A660>),\n",
       " ('__getnewargs__', <function str.__getnewargs__>),\n",
       " ('__gt__', <method-wrapper '__gt__' of str object at 0x0000022C7367A660>),\n",
       " ('__hash__', <method-wrapper '__hash__' of str object at 0x0000022C7367A660>),\n",
       " ('__init__', <method-wrapper '__init__' of str object at 0x0000022C7367A660>),\n",
       " ('__init_subclass__', <function str.__init_subclass__>),\n",
       " ('__iter__', <method-wrapper '__iter__' of str object at 0x0000022C7367A660>),\n",
       " ('__le__', <method-wrapper '__le__' of str object at 0x0000022C7367A660>),\n",
       " ('__len__', <method-wrapper '__len__' of str object at 0x0000022C7367A660>),\n",
       " ('__lt__', <method-wrapper '__lt__' of str object at 0x0000022C7367A660>),\n",
       " ('__mod__', <method-wrapper '__mod__' of str object at 0x0000022C7367A660>),\n",
       " ('__mul__', <method-wrapper '__mul__' of str object at 0x0000022C7367A660>),\n",
       " ('__ne__', <method-wrapper '__ne__' of str object at 0x0000022C7367A660>),\n",
       " ('__new__', <function str.__new__(*args, **kwargs)>),\n",
       " ('__reduce__', <function str.__reduce__()>),\n",
       " ('__reduce_ex__', <function str.__reduce_ex__(protocol, /)>),\n",
       " ('__repr__', <method-wrapper '__repr__' of str object at 0x0000022C7367A660>),\n",
       " ('__rmod__', <method-wrapper '__rmod__' of str object at 0x0000022C7367A660>),\n",
       " ('__rmul__', <method-wrapper '__rmul__' of str object at 0x0000022C7367A660>),\n",
       " ('__setattr__',\n",
       "  <method-wrapper '__setattr__' of str object at 0x0000022C7367A660>),\n",
       " ('__sizeof__', <function str.__sizeof__()>),\n",
       " ('__str__', <method-wrapper '__str__' of str object at 0x0000022C7367A660>),\n",
       " ('__subclasshook__', <function str.__subclasshook__>),\n",
       " ('capitalize', <function str.capitalize()>),\n",
       " ('casefold', <function str.casefold()>),\n",
       " ('center', <function str.center(width, fillchar=' ', /)>),\n",
       " ('count', <function str.count>),\n",
       " ('encode', <function str.encode(encoding='utf-8', errors='strict')>),\n",
       " ('endswith', <function str.endswith>),\n",
       " ('expandtabs', <function str.expandtabs(tabsize=8)>),\n",
       " ('find', <function str.find>),\n",
       " ('format', <function str.format>),\n",
       " ('format_map', <function str.format_map>),\n",
       " ('index', <function str.index>),\n",
       " ('isalnum', <function str.isalnum()>),\n",
       " ('isalpha', <function str.isalpha()>),\n",
       " ('isascii', <function str.isascii()>),\n",
       " ('isdecimal', <function str.isdecimal()>),\n",
       " ('isdigit', <function str.isdigit()>),\n",
       " ('isidentifier', <function str.isidentifier()>),\n",
       " ('islower', <function str.islower()>),\n",
       " ('isnumeric', <function str.isnumeric()>),\n",
       " ('isprintable', <function str.isprintable()>),\n",
       " ('isspace', <function str.isspace()>),\n",
       " ('istitle', <function str.istitle()>),\n",
       " ('isupper', <function str.isupper()>),\n",
       " ('join', <function str.join(iterable, /)>),\n",
       " ('ljust', <function str.ljust(width, fillchar=' ', /)>),\n",
       " ('lower', <function str.lower()>),\n",
       " ('lstrip', <function str.lstrip(chars=None, /)>),\n",
       " ('maketrans', <function str.maketrans(x, y=None, z=None, /)>),\n",
       " ('partition', <function str.partition(sep, /)>),\n",
       " ('replace', <function str.replace(old, new, count=-1, /)>),\n",
       " ('rfind', <function str.rfind>),\n",
       " ('rindex', <function str.rindex>),\n",
       " ('rjust', <function str.rjust(width, fillchar=' ', /)>),\n",
       " ('rpartition', <function str.rpartition(sep, /)>),\n",
       " ('rsplit', <function str.rsplit(sep=None, maxsplit=-1)>),\n",
       " ('rstrip', <function str.rstrip(chars=None, /)>),\n",
       " ('split', <function str.split(sep=None, maxsplit=-1)>),\n",
       " ('splitlines', <function str.splitlines(keepends=False)>),\n",
       " ('startswith', <function str.startswith>),\n",
       " ('strip', <function str.strip(chars=None, /)>),\n",
       " ('swapcase', <function str.swapcase()>),\n",
       " ('title', <function str.title()>),\n",
       " ('translate', <function str.translate(table, /)>),\n",
       " ('upper', <function str.upper()>),\n",
       " ('zfill', <function str.zfill(width, /)>)]"
      ]
     },
     "execution_count": 108,
     "metadata": {},
     "output_type": "execute_result"
    }
   ],
   "source": [
    "inspect.getmembers(string_var)"
   ]
  },
  {
   "cell_type": "code",
   "execution_count": 109,
   "metadata": {},
   "outputs": [],
   "source": [
    "import os\n",
    "testvar = 'Hello'\n",
    "\n",
    "exp = lambda x, y: x*y "
   ]
  },
  {
   "cell_type": "code",
   "execution_count": 110,
   "metadata": {},
   "outputs": [
    {
     "data": {
      "text/plain": [
       "True"
      ]
     },
     "execution_count": 110,
     "metadata": {},
     "output_type": "execute_result"
    }
   ],
   "source": [
    "inspect.ismodule(os)"
   ]
  },
  {
   "cell_type": "code",
   "execution_count": 111,
   "metadata": {},
   "outputs": [
    {
     "data": {
      "text/plain": [
       "True"
      ]
     },
     "execution_count": 111,
     "metadata": {},
     "output_type": "execute_result"
    }
   ],
   "source": [
    "inspect.isfunction(exp)"
   ]
  },
  {
   "cell_type": "code",
   "execution_count": 112,
   "metadata": {},
   "outputs": [
    {
     "data": {
      "text/plain": [
       "False"
      ]
     },
     "execution_count": 112,
     "metadata": {},
     "output_type": "execute_result"
    }
   ],
   "source": [
    "inspect.isfunction(my_greeter.say_goodbye)"
   ]
  },
  {
   "cell_type": "code",
   "execution_count": 113,
   "metadata": {},
   "outputs": [
    {
     "data": {
      "text/plain": [
       "True"
      ]
     },
     "execution_count": 113,
     "metadata": {},
     "output_type": "execute_result"
    }
   ],
   "source": [
    "inspect.ismethod(my_greeter.say_goodbye)"
   ]
  },
  {
   "cell_type": "code",
   "execution_count": 114,
   "metadata": {},
   "outputs": [],
   "source": [
    "def show_name_age(first_name:str, last_name:str, age:int):\n",
    "    print('{} {} is {} years old'.format(first_name, last_name, age))\n"
   ]
  },
  {
   "cell_type": "code",
   "execution_count": 115,
   "metadata": {},
   "outputs": [],
   "source": [
    "sig = inspect.signature(show_name_age)"
   ]
  },
  {
   "cell_type": "code",
   "execution_count": 116,
   "metadata": {},
   "outputs": [
    {
     "name": "stdout",
     "output_type": "stream",
     "text": [
      "OrderedDict([('first_name', <Parameter \"first_name: str\">), ('last_name', <Parameter \"last_name: str\">), ('age', <Parameter \"age: int\">)])\n"
     ]
    }
   ],
   "source": [
    "print(sig.parameters)"
   ]
  },
  {
   "cell_type": "code",
   "execution_count": 117,
   "metadata": {},
   "outputs": [],
   "source": [
    "spt = inspect.signature(string_var.split)"
   ]
  },
  {
   "cell_type": "code",
   "execution_count": 118,
   "metadata": {},
   "outputs": [
    {
     "name": "stdout",
     "output_type": "stream",
     "text": [
      "OrderedDict([('sep', <Parameter \"sep=None\">), ('maxsplit', <Parameter \"maxsplit=-1\">)])\n"
     ]
    }
   ],
   "source": [
    "print(spt.parameters)"
   ]
  },
  {
   "cell_type": "markdown",
   "metadata": {},
   "source": [
    "## Part 3:\n",
    "* Dates\n",
    "* OS module\n",
    "* Introspection \n",
    "* Sqlite module\n",
    "* Csv module \n",
    "* Sub process module\n",
    "* Requests module "
   ]
  },
  {
   "cell_type": "code",
   "execution_count": 119,
   "metadata": {},
   "outputs": [
    {
     "data": {
      "text/plain": [
       "datetime.datetime(2020, 5, 14, 9, 51, 36, 369250)"
      ]
     },
     "execution_count": 119,
     "metadata": {},
     "output_type": "execute_result"
    }
   ],
   "source": [
    "from datetime import datetime\n",
    "datetime.now()"
   ]
  },
  {
   "cell_type": "markdown",
   "metadata": {},
   "source": [
    "Remaining Part 3 covered by using Spyder IDE nd shared important scripts with lesson videos. \n",
    "\n",
    "## Part 4:\n",
    "Part 4 covered by using Spyder IDE and shared important scripts with lesson videos. "
   ]
  },
  {
   "cell_type": "code",
   "execution_count": null,
   "metadata": {},
   "outputs": [],
   "source": []
  }
 ],
 "metadata": {
  "kernelspec": {
   "display_name": "Python 3",
   "language": "python",
   "name": "python3"
  },
  "language_info": {
   "codemirror_mode": {
    "name": "ipython",
    "version": 3
   },
   "file_extension": ".py",
   "mimetype": "text/x-python",
   "name": "python",
   "nbconvert_exporter": "python",
   "pygments_lexer": "ipython3",
   "version": "3.7.1"
  }
 },
 "nbformat": 4,
 "nbformat_minor": 2
}
